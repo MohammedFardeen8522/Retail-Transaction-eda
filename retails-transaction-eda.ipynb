{
 "cells": [
  {
   "cell_type": "markdown",
   "metadata": {},
   "source": [
    "# Importing Libraries"
   ]
  },
  {
   "cell_type": "code",
   "execution_count": null,
   "metadata": {
    "execution": {
     "iopub.execute_input": "2024-05-13T15:18:50.016013Z",
     "iopub.status.busy": "2024-05-13T15:18:50.015578Z",
     "iopub.status.idle": "2024-05-13T15:18:50.022862Z",
     "shell.execute_reply": "2024-05-13T15:18:50.021634Z",
     "shell.execute_reply.started": "2024-05-13T15:18:50.015983Z"
    },
    "executionCancelledAt": null,
    "executionTime": 2313,
    "lastExecutedAt": 1715583395062,
    "lastExecutedByKernel": "1a3f7a09-d5a9-4a21-a8a7-ab013628083e",
    "lastScheduledRunId": null,
    "lastSuccessfullyExecutedCode": "import pandas as pd\nimport seaborn as sns\nimport matplotlib.pyplot as plt\nimport calendar\nimport matplotlib.ticker as mticker"
   },
   "outputs": [],
   "source": [
    "import pandas as pd\n",
    "import seaborn as sns\n",
    "import matplotlib.pyplot as plt\n",
    "import calendar\n",
    "import matplotlib.ticker as mticker"
   ]
  },
  {
   "cell_type": "markdown",
   "metadata": {},
   "source": [
    "# Reading Data"
   ]
  },
  {
   "cell_type": "code",
   "execution_count": null,
   "metadata": {
    "execution": {
     "iopub.execute_input": "2024-05-13T15:18:50.026821Z",
     "iopub.status.busy": "2024-05-13T15:18:50.025221Z",
     "iopub.status.idle": "2024-05-13T15:18:50.666944Z",
     "shell.execute_reply": "2024-05-13T15:18:50.665727Z",
     "shell.execute_reply.started": "2024-05-13T15:18:50.026775Z"
    },
    "executionCancelledAt": null,
    "executionTime": 500,
    "lastExecutedAt": 1715583395564,
    "lastExecutedByKernel": "1a3f7a09-d5a9-4a21-a8a7-ab013628083e",
    "lastScheduledRunId": null,
    "lastSuccessfullyExecutedCode": "retails = pd.read_csv('Retail_Transaction_Dataset.csv')\nretails.head()",
    "outputsMetadata": {
     "0": {
      "height": 308,
      "type": "dataFrame"
     }
    }
   },
   "outputs": [],
   "source": [
    "retails = pd.read_csv('/kaggle/input/retail-transaction-dataset/Retail_Transaction_Dataset.csv')\n",
    "retails.head()"
   ]
  },
  {
   "cell_type": "markdown",
   "metadata": {},
   "source": [
    "# Data Cleaning and Preparation"
   ]
  },
  {
   "cell_type": "markdown",
   "metadata": {},
   "source": [
    "## Data Information"
   ]
  },
  {
   "cell_type": "code",
   "execution_count": null,
   "metadata": {
    "execution": {
     "iopub.execute_input": "2024-05-13T15:18:50.668779Z",
     "iopub.status.busy": "2024-05-13T15:18:50.668436Z",
     "iopub.status.idle": "2024-05-13T15:18:50.754261Z",
     "shell.execute_reply": "2024-05-13T15:18:50.752884Z",
     "shell.execute_reply.started": "2024-05-13T15:18:50.668749Z"
    },
    "executionCancelledAt": null,
    "executionTime": 46,
    "lastExecutedAt": 1715583395610,
    "lastExecutedByKernel": "1a3f7a09-d5a9-4a21-a8a7-ab013628083e",
    "lastScheduledRunId": null,
    "lastSuccessfullyExecutedCode": "retails.info()",
    "outputsMetadata": {
     "0": {
      "height": 374,
      "type": "stream"
     }
    }
   },
   "outputs": [],
   "source": [
    "retails.info()"
   ]
  },
  {
   "cell_type": "markdown",
   "metadata": {},
   "source": [
    "## Dropping `CustomerID`, `ProductID` Columns"
   ]
  },
  {
   "cell_type": "code",
   "execution_count": null,
   "metadata": {
    "execution": {
     "iopub.execute_input": "2024-05-13T15:18:50.757974Z",
     "iopub.status.busy": "2024-05-13T15:18:50.757566Z",
     "iopub.status.idle": "2024-05-13T15:18:50.774293Z",
     "shell.execute_reply": "2024-05-13T15:18:50.772497Z",
     "shell.execute_reply.started": "2024-05-13T15:18:50.757938Z"
    },
    "executionCancelledAt": null,
    "executionTime": 52,
    "lastExecutedAt": 1715583395662,
    "lastExecutedByKernel": "1a3f7a09-d5a9-4a21-a8a7-ab013628083e",
    "lastScheduledRunId": null,
    "lastSuccessfullyExecutedCode": "retails.drop(['CustomerID', 'ProductID'], axis=1, inplace = True)"
   },
   "outputs": [],
   "source": [
    "retails.drop(['CustomerID', 'ProductID'], axis=1, inplace = True)"
   ]
  },
  {
   "cell_type": "markdown",
   "metadata": {},
   "source": [
    "## Moving `ProductCategory` to First Position"
   ]
  },
  {
   "cell_type": "code",
   "execution_count": null,
   "metadata": {
    "execution": {
     "iopub.execute_input": "2024-05-13T15:18:50.776599Z",
     "iopub.status.busy": "2024-05-13T15:18:50.776208Z",
     "iopub.status.idle": "2024-05-13T15:18:50.794027Z",
     "shell.execute_reply": "2024-05-13T15:18:50.792582Z",
     "shell.execute_reply.started": "2024-05-13T15:18:50.776569Z"
    },
    "executionCancelledAt": null,
    "executionTime": 52,
    "lastExecutedAt": 1715583395714,
    "lastExecutedByKernel": "1a3f7a09-d5a9-4a21-a8a7-ab013628083e",
    "lastScheduledRunId": null,
    "lastSuccessfullyExecutedCode": "retails = retails[['ProductCategory'] + [col for col in retails if col != 'ProductCategory']]"
   },
   "outputs": [],
   "source": [
    "retails = retails[['ProductCategory'] + [col for col in retails if col != 'ProductCategory']]"
   ]
  },
  {
   "cell_type": "markdown",
   "metadata": {},
   "source": [
    "## Modifying `StoreLocation`"
   ]
  },
  {
   "cell_type": "markdown",
   "metadata": {},
   "source": [
    "In order to make the data analysis more effective we have to modify the `StoreLocation` column so that instead of containing description of location, it should contain only the state name. In order to modify the column, following steps will be taken:\n",
    "1.  Upon closer examination, I found that states are located as two words abbreviations    at the last 7th, 8th positions like `176 Andrew Cliffs Baileyfort, HI 93354.\n"
   ]
  },
  {
   "cell_type": "code",
   "execution_count": null,
   "metadata": {
    "execution": {
     "iopub.execute_input": "2024-05-13T15:18:50.795705Z",
     "iopub.status.busy": "2024-05-13T15:18:50.795336Z",
     "iopub.status.idle": "2024-05-13T15:18:50.875463Z",
     "shell.execute_reply": "2024-05-13T15:18:50.873821Z",
     "shell.execute_reply.started": "2024-05-13T15:18:50.795676Z"
    },
    "executionCancelledAt": null,
    "executionTime": 64,
    "lastExecutedAt": 1715583395779,
    "lastExecutedByKernel": "1a3f7a09-d5a9-4a21-a8a7-ab013628083e",
    "lastScheduledRunId": null,
    "lastSuccessfullyExecutedCode": "retails['State'] = [loc[-8:-6] for loc in retails['StoreLocation']]\nretails['State'].value_counts().head(3)",
    "outputsMetadata": {
     "0": {
      "height": 144,
      "type": "dataFrame"
     }
    }
   },
   "outputs": [],
   "source": [
    "retails['State'] = [loc[-8:-6] for loc in retails['StoreLocation']]\n",
    "retails['State'].value_counts().head(3)"
   ]
  },
  {
   "cell_type": "markdown",
   "metadata": {},
   "source": [
    "2. Converting to full forms for better readibilty. The full forms are saved as a dictionary named `state_mapping` as values to their abbreviations(keys)."
   ]
  },
  {
   "cell_type": "code",
   "execution_count": null,
   "metadata": {
    "execution": {
     "iopub.execute_input": "2024-05-13T15:18:50.878125Z",
     "iopub.status.busy": "2024-05-13T15:18:50.8776Z",
     "iopub.status.idle": "2024-05-13T15:18:50.891049Z",
     "shell.execute_reply": "2024-05-13T15:18:50.889529Z",
     "shell.execute_reply.started": "2024-05-13T15:18:50.878077Z"
    },
    "executionCancelledAt": null,
    "executionTime": 46,
    "jupyter": {
     "source_hidden": true
    },
    "lastExecutedAt": 1715583395825,
    "lastExecutedByKernel": "1a3f7a09-d5a9-4a21-a8a7-ab013628083e",
    "lastScheduledRunId": null,
    "lastSuccessfullyExecutedCode": "state_mapping = {\n    'AL': 'Alabama',\n    'AK': 'Alaska',\n    'AS': 'American Samoa',\n    'AZ': 'Arizona',\n    'AR': 'Arkansas',\n    'CA': 'California',\n    'CO': 'Colorado',\n    'CT': 'Connecticut',\n    'DE': 'Delaware',\n    'DC': 'District of Columbia',\n    'FL': 'Florida',\n    'GA': 'Georgia',\n    'GU': 'Guam',\n    'HI': 'Hawaii',\n    'ID': 'Idaho',\n    'IL': 'Illinois',\n    'IN': 'Indiana',\n    'IA': 'Iowa',\n    'KS': 'Kansas',\n    'KY': 'Kentucky',\n    'LA': 'Louisiana',\n    'ME': 'Maine',\n    'MD': 'Maryland',\n    'MA': 'Massachusetts',\n    'MI': 'Michigan',\n    'MN': 'Minnesota',\n    'MS': 'Mississippi',\n    'MO': 'Missouri',\n    'MT': 'Montana',\n    'NE': 'Nebraska',\n    'NV': 'Nevada',\n    'NH': 'New Hampshire',\n    'NJ': 'New Jersey',\n    'NM': 'New Mexico',\n    'NY': 'New York',\n    'NC': 'North Carolina',\n    'ND': 'North Dakota',\n    'MP': 'Northern Mariana Islands',\n    'OH': 'Ohio',\n    'OK': 'Oklahoma',\n    'OR': 'Oregon',\n    'PW': 'Palau',\n    'PA': 'Pennsylvania',\n    'PR': 'Puerto Rico',\n    'RI': 'Rhode Island',\n    'SC': 'South Carolina',\n    'SD': 'South Dakota',\n    'TN': 'Tennessee',\n    'TX': 'Texas',\n    'UT': 'Utah',\n    'VT': 'Vermont',\n    'VI': 'U.S. Virgin Islands',\n    'VA': 'Virginia',\n    'WA': 'Washington',\n    'WV': 'West Virginia',\n    'WI': 'Wisconsin',\n    'WY': 'Wyoming',\n    'AE': 'Armed Forces Europe',\n    'AA': 'Armed Forces Americas',\n    'AP': 'Armed Forces Pacific',\n    'FM': 'Federated States of Micronesia',\n    'MH': 'Marshall Islands'\n}\n",
    "outputsMetadata": {
     "0": {
      "height": 122,
      "type": "stream"
     }
    }
   },
   "outputs": [],
   "source": [
    "state_mapping = {\n",
    "    'AL': 'Alabama',\n",
    "    'AK': 'Alaska',\n",
    "    'AS': 'American Samoa',\n",
    "    'AZ': 'Arizona',\n",
    "    'AR': 'Arkansas',\n",
    "    'CA': 'California',\n",
    "    'CO': 'Colorado',\n",
    "    'CT': 'Connecticut',\n",
    "    'DE': 'Delaware',\n",
    "    'DC': 'District of Columbia',\n",
    "    'FL': 'Florida',\n",
    "    'GA': 'Georgia',\n",
    "    'GU': 'Guam',\n",
    "    'HI': 'Hawaii',\n",
    "    'ID': 'Idaho',\n",
    "    'IL': 'Illinois',\n",
    "    'IN': 'Indiana',\n",
    "    'IA': 'Iowa',\n",
    "    'KS': 'Kansas',\n",
    "    'KY': 'Kentucky',\n",
    "    'LA': 'Louisiana',\n",
    "    'ME': 'Maine',\n",
    "    'MD': 'Maryland',\n",
    "    'MA': 'Massachusetts',\n",
    "    'MI': 'Michigan',\n",
    "    'MN': 'Minnesota',\n",
    "    'MS': 'Mississippi',\n",
    "    'MO': 'Missouri',\n",
    "    'MT': 'Montana',\n",
    "    'NE': 'Nebraska',\n",
    "    'NV': 'Nevada',\n",
    "    'NH': 'New Hampshire',\n",
    "    'NJ': 'New Jersey',\n",
    "    'NM': 'New Mexico',\n",
    "    'NY': 'New York',\n",
    "    'NC': 'North Carolina',\n",
    "    'ND': 'North Dakota',\n",
    "    'MP': 'Northern Mariana Islands',\n",
    "    'OH': 'Ohio',\n",
    "    'OK': 'Oklahoma',\n",
    "    'OR': 'Oregon',\n",
    "    'PW': 'Palau',\n",
    "    'PA': 'Pennsylvania',\n",
    "    'PR': 'Puerto Rico',\n",
    "    'RI': 'Rhode Island',\n",
    "    'SC': 'South Carolina',\n",
    "    'SD': 'South Dakota',\n",
    "    'TN': 'Tennessee',\n",
    "    'TX': 'Texas',\n",
    "    'UT': 'Utah',\n",
    "    'VT': 'Vermont',\n",
    "    'VI': 'U.S. Virgin Islands',\n",
    "    'VA': 'Virginia',\n",
    "    'WA': 'Washington',\n",
    "    'WV': 'West Virginia',\n",
    "    'WI': 'Wisconsin',\n",
    "    'WY': 'Wyoming',\n",
    "    'AE': 'Armed Forces Europe',\n",
    "    'AA': 'Armed Forces Americas',\n",
    "    'AP': 'Armed Forces Pacific',\n",
    "    'FM': 'Federated States of Micronesia',\n",
    "    'MH': 'Marshall Islands'\n",
    "}\n"
   ]
  },
  {
   "cell_type": "code",
   "execution_count": null,
   "metadata": {
    "execution": {
     "iopub.execute_input": "2024-05-13T15:18:50.893355Z",
     "iopub.status.busy": "2024-05-13T15:18:50.89255Z",
     "iopub.status.idle": "2024-05-13T15:18:51.485559Z",
     "shell.execute_reply": "2024-05-13T15:18:51.484105Z",
     "shell.execute_reply.started": "2024-05-13T15:18:50.893308Z"
    },
    "executionCancelledAt": null,
    "executionTime": 209,
    "lastExecutedAt": 1715583396035,
    "lastExecutedByKernel": "1a3f7a09-d5a9-4a21-a8a7-ab013628083e",
    "lastScheduledRunId": null,
    "lastSuccessfullyExecutedCode": "retails['State'] = retails['State'].replace(state_mapping)\nretails['State'].head()",
    "outputsMetadata": {
     "0": {
      "height": 193,
      "type": "dataFrame"
     }
    }
   },
   "outputs": [],
   "source": [
    "retails['State'] = retails['State'].replace(state_mapping)\n",
    "retails['State'].head()"
   ]
  },
  {
   "cell_type": "markdown",
   "metadata": {},
   "source": [
    "3. Finally dropping the `StoreLocation` column as it is no longer needed."
   ]
  },
  {
   "cell_type": "code",
   "execution_count": null,
   "metadata": {
    "execution": {
     "iopub.execute_input": "2024-05-13T15:18:51.487815Z",
     "iopub.status.busy": "2024-05-13T15:18:51.487403Z",
     "iopub.status.idle": "2024-05-13T15:18:51.504193Z",
     "shell.execute_reply": "2024-05-13T15:18:51.502853Z",
     "shell.execute_reply.started": "2024-05-13T15:18:51.487784Z"
    },
    "executionCancelledAt": null,
    "executionTime": 47,
    "lastExecutedAt": 1715583396082,
    "lastExecutedByKernel": "1a3f7a09-d5a9-4a21-a8a7-ab013628083e",
    "lastScheduledRunId": null,
    "lastSuccessfullyExecutedCode": "retails.drop('StoreLocation', axis = 1, inplace = True)"
   },
   "outputs": [],
   "source": [
    "retails.drop('StoreLocation', axis = 1, inplace = True)"
   ]
  },
  {
   "cell_type": "markdown",
   "metadata": {},
   "source": [
    "## Missing Values"
   ]
  },
  {
   "cell_type": "code",
   "execution_count": null,
   "metadata": {
    "execution": {
     "iopub.execute_input": "2024-05-13T15:18:51.510991Z",
     "iopub.status.busy": "2024-05-13T15:18:51.509968Z",
     "iopub.status.idle": "2024-05-13T15:18:51.57384Z",
     "shell.execute_reply": "2024-05-13T15:18:51.572481Z",
     "shell.execute_reply.started": "2024-05-13T15:18:51.510936Z"
    },
    "executionCancelledAt": null,
    "executionTime": 56,
    "lastExecutedAt": 1715583396138,
    "lastExecutedByKernel": "1a3f7a09-d5a9-4a21-a8a7-ab013628083e",
    "lastScheduledRunId": null,
    "lastSuccessfullyExecutedCode": "retails.isna().sum().rename_axis('Columns').reset_index(name = 'Missing values')",
    "outputsMetadata": {
     "0": {
      "height": 270,
      "type": "dataFrame"
     }
    }
   },
   "outputs": [],
   "source": [
    "retails.isna().sum().rename_axis('Columns').reset_index(name = 'Missing values')"
   ]
  },
  {
   "cell_type": "markdown",
   "metadata": {},
   "source": [
    "There are no missing values in this dataset."
   ]
  },
  {
   "cell_type": "markdown",
   "metadata": {},
   "source": [
    "## Duplicate Rows"
   ]
  },
  {
   "cell_type": "code",
   "execution_count": null,
   "metadata": {
    "execution": {
     "iopub.execute_input": "2024-05-13T15:18:51.576199Z",
     "iopub.status.busy": "2024-05-13T15:18:51.575759Z",
     "iopub.status.idle": "2024-05-13T15:18:51.690285Z",
     "shell.execute_reply": "2024-05-13T15:18:51.6891Z",
     "shell.execute_reply.started": "2024-05-13T15:18:51.576162Z"
    },
    "executionCancelledAt": null,
    "executionTime": 68,
    "lastExecutedAt": 1715583396206,
    "lastExecutedByKernel": "1a3f7a09-d5a9-4a21-a8a7-ab013628083e",
    "lastScheduledRunId": null,
    "lastSuccessfullyExecutedCode": "print(f\"Number of duplicate rows : {len(retails[retails.duplicated()])}\")",
    "outputsMetadata": {
     "0": {
      "height": 38,
      "type": "stream"
     }
    }
   },
   "outputs": [],
   "source": [
    "print(f\"Number of duplicate rows : {len(retails[retails.duplicated()])}\")"
   ]
  },
  {
   "cell_type": "markdown",
   "metadata": {},
   "source": [
    "There are no duplicate rows in the dataset."
   ]
  },
  {
   "cell_type": "markdown",
   "metadata": {},
   "source": [
    "## Investigating Data Types"
   ]
  },
  {
   "cell_type": "code",
   "execution_count": null,
   "metadata": {
    "execution": {
     "iopub.execute_input": "2024-05-13T15:18:51.692438Z",
     "iopub.status.busy": "2024-05-13T15:18:51.692067Z",
     "iopub.status.idle": "2024-05-13T15:18:51.702147Z",
     "shell.execute_reply": "2024-05-13T15:18:51.700617Z",
     "shell.execute_reply.started": "2024-05-13T15:18:51.692406Z"
    },
    "executionCancelledAt": null,
    "executionTime": 60,
    "lastExecutedAt": 1715583396266,
    "lastExecutedByKernel": "1a3f7a09-d5a9-4a21-a8a7-ab013628083e",
    "lastScheduledRunId": null,
    "lastSuccessfullyExecutedCode": "retails.dtypes"
   },
   "outputs": [],
   "source": [
    "retails.dtypes"
   ]
  },
  {
   "cell_type": "markdown",
   "metadata": {},
   "source": [
    "### `TransactionDate` column has **object** data type, changing to **\"datetime\"**"
   ]
  },
  {
   "cell_type": "code",
   "execution_count": null,
   "metadata": {
    "execution": {
     "iopub.execute_input": "2024-05-13T15:18:51.704037Z",
     "iopub.status.busy": "2024-05-13T15:18:51.703646Z",
     "iopub.status.idle": "2024-05-13T15:18:52.307759Z",
     "shell.execute_reply": "2024-05-13T15:18:52.306374Z",
     "shell.execute_reply.started": "2024-05-13T15:18:51.704004Z"
    },
    "executionCancelledAt": null,
    "executionTime": 296,
    "lastExecutedAt": 1715583396562,
    "lastExecutedByKernel": "1a3f7a09-d5a9-4a21-a8a7-ab013628083e",
    "lastScheduledRunId": null,
    "lastSuccessfullyExecutedCode": "retails['TransactionDate'] = pd.to_datetime(retails['TransactionDate'])",
    "outputsMetadata": {
     "0": {
      "height": 321,
      "type": "dataFrame"
     }
    }
   },
   "outputs": [],
   "source": [
    "retails['TransactionDate'] = pd.to_datetime(retails['TransactionDate'])"
   ]
  },
  {
   "cell_type": "markdown",
   "metadata": {},
   "source": [
    "### Setting Data Types of `ProductCategory` and `PaymentMethod` columns to \"category\" "
   ]
  },
  {
   "cell_type": "code",
   "execution_count": null,
   "metadata": {
    "execution": {
     "iopub.execute_input": "2024-05-13T15:18:52.30994Z",
     "iopub.status.busy": "2024-05-13T15:18:52.3094Z",
     "iopub.status.idle": "2024-05-13T15:18:52.35422Z",
     "shell.execute_reply": "2024-05-13T15:18:52.352198Z",
     "shell.execute_reply.started": "2024-05-13T15:18:52.309877Z"
    },
    "executionCancelledAt": null,
    "executionTime": 53,
    "lastExecutedAt": 1715583396616,
    "lastExecutedByKernel": "1a3f7a09-d5a9-4a21-a8a7-ab013628083e",
    "lastScheduledRunId": null,
    "lastSuccessfullyExecutedCode": "retails[['ProductCategory', 'PaymentMethod']] = retails[['ProductCategory', 'PaymentMethod']].astype('category')\nretails[['ProductCategory', 'PaymentMethod']].dtypes"
   },
   "outputs": [],
   "source": [
    "retails[['ProductCategory', 'PaymentMethod']] = retails[['ProductCategory', 'PaymentMethod']].astype('category')\n",
    "retails[['ProductCategory', 'PaymentMethod']].dtypes"
   ]
  },
  {
   "cell_type": "markdown",
   "metadata": {},
   "source": [
    "# Descriptive Statistics"
   ]
  },
  {
   "cell_type": "markdown",
   "metadata": {},
   "source": [
    "## Numerical Columns"
   ]
  },
  {
   "cell_type": "code",
   "execution_count": null,
   "metadata": {
    "execution": {
     "iopub.execute_input": "2024-05-13T15:18:52.357483Z",
     "iopub.status.busy": "2024-05-13T15:18:52.356587Z",
     "iopub.status.idle": "2024-05-13T15:18:52.413027Z",
     "shell.execute_reply": "2024-05-13T15:18:52.411586Z",
     "shell.execute_reply.started": "2024-05-13T15:18:52.357437Z"
    },
    "executionCancelledAt": null,
    "executionTime": 50,
    "lastExecutedAt": 1715583396666,
    "lastExecutedByKernel": "1a3f7a09-d5a9-4a21-a8a7-ab013628083e",
    "lastScheduledRunId": null,
    "lastSuccessfullyExecutedCode": "retails.describe()",
    "outputsMetadata": {
     "0": {
      "height": 270,
      "type": "dataFrame"
     }
    }
   },
   "outputs": [],
   "source": [
    "retails.describe()"
   ]
  },
  {
   "cell_type": "code",
   "execution_count": null,
   "metadata": {
    "execution": {
     "iopub.execute_input": "2024-05-13T15:18:52.41735Z",
     "iopub.status.busy": "2024-05-13T15:18:52.416981Z",
     "iopub.status.idle": "2024-05-13T15:18:53.521916Z",
     "shell.execute_reply": "2024-05-13T15:18:53.520328Z",
     "shell.execute_reply.started": "2024-05-13T15:18:52.417323Z"
    },
    "executionCancelledAt": null,
    "executionTime": 762,
    "lastExecutedAt": 1715583397428,
    "lastExecutedByKernel": "1a3f7a09-d5a9-4a21-a8a7-ab013628083e",
    "lastScheduledRunId": null,
    "lastSuccessfullyExecutedCode": "retails_num = retails.select_dtypes(include=['int64', 'float64'])\nretails_num.hist(bins=20, figsize=(10, 8), color='skyblue')\nplt.show()"
   },
   "outputs": [],
   "source": [
    "retails_num = retails.select_dtypes(include=['int64', 'float64'])\n",
    "retails_num.hist(bins=20, figsize=(10, 8), color='skyblue')\n",
    "plt.show()"
   ]
  },
  {
   "cell_type": "markdown",
   "metadata": {},
   "source": [
    "## Non Numerical Columns"
   ]
  },
  {
   "cell_type": "code",
   "execution_count": null,
   "metadata": {
    "execution": {
     "iopub.execute_input": "2024-05-13T15:18:53.524302Z",
     "iopub.status.busy": "2024-05-13T15:18:53.523804Z",
     "iopub.status.idle": "2024-05-13T15:18:53.584005Z",
     "shell.execute_reply": "2024-05-13T15:18:53.582432Z",
     "shell.execute_reply.started": "2024-05-13T15:18:53.52426Z"
    },
    "executionCancelledAt": null,
    "executionTime": 50,
    "lastExecutedAt": 1715583397478,
    "lastExecutedByKernel": "1a3f7a09-d5a9-4a21-a8a7-ab013628083e",
    "lastScheduledRunId": null,
    "lastSuccessfullyExecutedCode": "retails.describe(include = ['object', 'category'])",
    "outputsMetadata": {
     "0": {
      "height": 170,
      "type": "dataFrame"
     }
    }
   },
   "outputs": [],
   "source": [
    "retails.describe(include = ['object', 'category'])"
   ]
  },
  {
   "cell_type": "code",
   "execution_count": null,
   "metadata": {
    "execution": {
     "iopub.execute_input": "2024-05-13T15:18:53.586328Z",
     "iopub.status.busy": "2024-05-13T15:18:53.585926Z",
     "iopub.status.idle": "2024-05-13T15:18:53.595748Z",
     "shell.execute_reply": "2024-05-13T15:18:53.594201Z",
     "shell.execute_reply.started": "2024-05-13T15:18:53.586295Z"
    },
    "executionCancelledAt": null,
    "executionTime": 61,
    "lastExecutedAt": 1715583397539,
    "lastExecutedByKernel": "1a3f7a09-d5a9-4a21-a8a7-ab013628083e",
    "lastScheduledRunId": null,
    "lastSuccessfullyExecutedCode": "retails.columns\n"
   },
   "outputs": [],
   "source": [
    "retails.columns\n"
   ]
  },
  {
   "cell_type": "markdown",
   "metadata": {},
   "source": [
    "# Insights"
   ]
  },
  {
   "cell_type": "markdown",
   "metadata": {},
   "source": [
    "## Sales Performance by Product Category"
   ]
  },
  {
   "cell_type": "markdown",
   "metadata": {},
   "source": [
    "### How do sales vary across different product categories?"
   ]
  },
  {
   "cell_type": "code",
   "execution_count": null,
   "metadata": {
    "execution": {
     "iopub.execute_input": "2024-05-13T15:18:53.599327Z",
     "iopub.status.busy": "2024-05-13T15:18:53.598726Z",
     "iopub.status.idle": "2024-05-13T15:18:53.617407Z",
     "shell.execute_reply": "2024-05-13T15:18:53.616284Z",
     "shell.execute_reply.started": "2024-05-13T15:18:53.599278Z"
    },
    "executionCancelledAt": null,
    "executionTime": 54,
    "lastExecutedAt": 1715583397594,
    "lastExecutedByKernel": "1a3f7a09-d5a9-4a21-a8a7-ab013628083e",
    "lastScheduledRunId": null,
    "lastSuccessfullyExecutedCode": "retails_prod = retails.groupby('ProductCategory')\nProduct_sales = retails_prod['Quantity'].sum().sort_values(ascending=False).rename('Total Sales')\nProduct_sales",
    "outputsMetadata": {
     "0": {
      "height": 170,
      "type": "dataFrame"
     }
    }
   },
   "outputs": [],
   "source": [
    "retails_prod = retails.groupby('ProductCategory')\n",
    "Product_sales = retails_prod['Quantity'].sum().sort_values(ascending=False).rename('Total Sales')\n",
    "Product_sales"
   ]
  },
  {
   "cell_type": "code",
   "execution_count": null,
   "metadata": {
    "execution": {
     "iopub.execute_input": "2024-05-13T15:18:53.619324Z",
     "iopub.status.busy": "2024-05-13T15:18:53.618942Z",
     "iopub.status.idle": "2024-05-13T15:18:53.977521Z",
     "shell.execute_reply": "2024-05-13T15:18:53.976292Z",
     "shell.execute_reply.started": "2024-05-13T15:18:53.619292Z"
    },
    "executionCancelledAt": null,
    "executionTime": 275,
    "lastExecutedAt": 1715583397869,
    "lastExecutedByKernel": "1a3f7a09-d5a9-4a21-a8a7-ab013628083e",
    "lastScheduledRunId": null,
    "lastSuccessfullyExecutedCode": "plt.figure(figsize=(5, 3))\nsns.barplot(data=retails, x='ProductCategory', y='Quantity', estimator=sum, ci=None)\nplt.title('Total Sales Quantity by Product Category')\nplt.xlabel('Product Category')\nplt.ylabel('Total Sales Quantity')\nplt.ylim(122000, 127000)  # Adjust the range of y-axis here\nplt.tight_layout()\nplt.show()"
   },
   "outputs": [],
   "source": [
    "plt.figure(figsize=(5, 3))\n",
    "sns.barplot(data=retails, x='ProductCategory', y='Quantity', estimator=sum, ci=None)\n",
    "plt.title('Total Sales Quantity by Product Category')\n",
    "plt.xlabel('Product Category')\n",
    "plt.ylabel('Total Sales Quantity')\n",
    "plt.ylim(122000, 127000)  # Adjust the range of y-axis here\n",
    "plt.tight_layout()\n",
    "plt.show()"
   ]
  },
  {
   "cell_type": "markdown",
   "metadata": {},
   "source": [
    "### Finding:\n",
    "- Almost all categories does not seem to experience different Sales.\n",
    "- There are a little more sales of `Books` compared to other categories. "
   ]
  },
  {
   "cell_type": "markdown",
   "metadata": {},
   "source": [
    "### Which product categories contribute the most to total revenue?"
   ]
  },
  {
   "cell_type": "code",
   "execution_count": null,
   "metadata": {
    "execution": {
     "iopub.execute_input": "2024-05-13T15:18:53.980373Z",
     "iopub.status.busy": "2024-05-13T15:18:53.979573Z",
     "iopub.status.idle": "2024-05-13T15:18:54.014633Z",
     "shell.execute_reply": "2024-05-13T15:18:54.013489Z",
     "shell.execute_reply.started": "2024-05-13T15:18:53.980329Z"
    },
    "executionCancelledAt": null,
    "executionTime": 65,
    "jupyter": {
     "source_hidden": true
    },
    "lastExecutedAt": 1715583397934,
    "lastExecutedByKernel": "1a3f7a09-d5a9-4a21-a8a7-ab013628083e",
    "lastScheduledRunId": null,
    "lastSuccessfullyExecutedCode": "total_revenue = round(sum(retails['TotalAmount']), 0)\nprod_cont_rev = (((retails_prod['TotalAmount'].sum()/total_revenue)*100).round(2)).rename(\"Revenue Contribution\").astype(str)+\"%\"\nprod_cont_rev\n",
    "outputsMetadata": {
     "0": {
      "height": 170,
      "type": "dataFrame"
     }
    }
   },
   "outputs": [],
   "source": [
    "total_revenue = round(sum(retails['TotalAmount']), 0)\n",
    "prod_cont_rev = (((retails_prod['TotalAmount'].sum()/total_revenue)*100).round(2)).rename(\"Revenue Contribution\").astype(str)+\"%\"\n",
    "prod_cont_rev\n"
   ]
  },
  {
   "cell_type": "code",
   "execution_count": null,
   "metadata": {
    "collapsed": false,
    "execution": {
     "iopub.execute_input": "2024-05-13T15:18:54.017243Z",
     "iopub.status.busy": "2024-05-13T15:18:54.016549Z",
     "iopub.status.idle": "2024-05-13T15:18:54.253933Z",
     "shell.execute_reply": "2024-05-13T15:18:54.252166Z",
     "shell.execute_reply.started": "2024-05-13T15:18:54.017194Z"
    },
    "executionCancelledAt": null,
    "executionTime": 219,
    "jupyter": {
     "outputs_hidden": false,
     "source_hidden": false
    },
    "lastExecutedAt": 1715583398153,
    "lastExecutedByKernel": "1a3f7a09-d5a9-4a21-a8a7-ab013628083e",
    "lastScheduledRunId": null,
    "lastSuccessfullyExecutedCode": "plt.figure(figsize=(6, 5))\nsum_total_amount_by_category = retails.groupby('ProductCategory')['TotalAmount'].sum()\nexplode_values = [0.15 if amount == sum_total_amount_by_category.max() else 0 for amount in sum_total_amount_by_category]\nplt.pie(sum_total_amount_by_category, labels=sum_total_amount_by_category.index, autopct='%1.2f%%', startangle=90, explode=explode_values, shadow=True, colors=['#ff9999','#66b3ff','#99ff99','#ffcc99'])\nplt.title('Percentage of Total Revenue by Product Category', fontsize=16)\nplt.show()"
   },
   "outputs": [],
   "source": [
    "plt.figure(figsize=(6, 5))\n",
    "sum_total_amount_by_category = retails.groupby('ProductCategory')['TotalAmount'].sum()\n",
    "explode_values = [0.15 if amount == sum_total_amount_by_category.max() else 0 for amount in sum_total_amount_by_category]\n",
    "plt.pie(sum_total_amount_by_category, labels=sum_total_amount_by_category.index, autopct='%1.2f%%', startangle=90, explode=explode_values, shadow=True, colors=['#ff9999','#66b3ff','#99ff99','#ffcc99'])\n",
    "plt.title('Percentage of Total Revenue by Product Category', fontsize=16)\n",
    "plt.show()"
   ]
  },
  {
   "cell_type": "markdown",
   "metadata": {},
   "source": [
    "### Finding:\n",
    "- As we can see, all categories approximately contribute the same towards total revenue\n",
    "- `Books` have contributed **25.2%**.\n",
    "- Others have contributed slighlty less than **25%**"
   ]
  },
  {
   "cell_type": "markdown",
   "metadata": {},
   "source": [
    "## Are there any seasonal trends or patterns in sales for different product categories?"
   ]
  },
  {
   "cell_type": "code",
   "execution_count": null,
   "metadata": {
    "execution": {
     "iopub.execute_input": "2024-05-13T15:18:54.257468Z",
     "iopub.status.busy": "2024-05-13T15:18:54.256758Z",
     "iopub.status.idle": "2024-05-13T15:18:54.819475Z",
     "shell.execute_reply": "2024-05-13T15:18:54.817751Z",
     "shell.execute_reply.started": "2024-05-13T15:18:54.257407Z"
    },
    "executionCancelledAt": null,
    "executionTime": 332,
    "lastExecutedAt": 1715583398485,
    "lastExecutedByKernel": "1a3f7a09-d5a9-4a21-a8a7-ab013628083e",
    "lastScheduledRunId": null,
    "lastSuccessfullyExecutedCode": "import calendar\nretails['month'] = retails['TransactionDate'].dt.month.apply(lambda x: calendar.month_abbr[x])\nretails['DayOfWeek'] = retails['TransactionDate'].dt.day_name()",
    "outputsMetadata": {
     "0": {
      "height": 321,
      "type": "dataFrame"
     }
    }
   },
   "outputs": [],
   "source": [
    "import calendar\n",
    "retails['month'] = retails['TransactionDate'].dt.month.apply(lambda x: calendar.month_abbr[x])\n",
    "retails['DayOfWeek'] = retails['TransactionDate'].dt.day_name()"
   ]
  },
  {
   "cell_type": "markdown",
   "metadata": {},
   "source": [
    "### Total Monthly Revenue"
   ]
  },
  {
   "cell_type": "code",
   "execution_count": null,
   "metadata": {
    "execution": {
     "iopub.execute_input": "2024-05-13T15:18:54.821849Z",
     "iopub.status.busy": "2024-05-13T15:18:54.821325Z",
     "iopub.status.idle": "2024-05-13T15:18:54.849607Z",
     "shell.execute_reply": "2024-05-13T15:18:54.847807Z",
     "shell.execute_reply.started": "2024-05-13T15:18:54.821801Z"
    },
    "executionCancelledAt": null,
    "executionTime": 50,
    "jupyter": {
     "source_hidden": true
    },
    "lastExecutedAt": 1715583398537,
    "lastExecutedByKernel": "1a3f7a09-d5a9-4a21-a8a7-ab013628083e",
    "lastScheduledRunId": null,
    "lastSuccessfullyExecutedCode": "# Setting month as category\nretails['month']=retails['month'].astype('category')\nretails['month']=retails['month'].cat.set_categories(\n    new_categories = ['Jan', 'Feb', 'Mar', 'Apr', 'May', 'Jun', 'Jul', 'Aug', 'Sep', 'Oct', 'Nov', 'Dec'],\n    ordered = True,\n)\n"
   },
   "outputs": [],
   "source": [
    "# Setting month as category\n",
    "retails['month']=retails['month'].astype('category')\n",
    "retails['month']=retails['month'].cat.set_categories(\n",
    "    new_categories = ['Jan', 'Feb', 'Mar', 'Apr', 'May', 'Jun', 'Jul', 'Aug', 'Sep', 'Oct', 'Nov', 'Dec'],\n",
    "    ordered = True,\n",
    ")\n"
   ]
  },
  {
   "cell_type": "code",
   "execution_count": null,
   "metadata": {
    "execution": {
     "iopub.execute_input": "2024-05-13T15:18:54.851497Z",
     "iopub.status.busy": "2024-05-13T15:18:54.851116Z",
     "iopub.status.idle": "2024-05-13T15:18:54.867584Z",
     "shell.execute_reply": "2024-05-13T15:18:54.865952Z",
     "shell.execute_reply.started": "2024-05-13T15:18:54.851465Z"
    },
    "executionCancelledAt": null,
    "executionTime": 51,
    "jupyter": {
     "source_hidden": true
    },
    "lastExecutedAt": 1715583398590,
    "lastExecutedByKernel": "1a3f7a09-d5a9-4a21-a8a7-ab013628083e",
    "lastScheduledRunId": null,
    "lastSuccessfullyExecutedCode": "retails.groupby('month')['TotalAmount'].sum().rename('Total Revenue').round(-1).apply(lambda x: \"$ {:,.0f}\".format(x))",
    "outputsMetadata": {
     "0": {
      "height": 320,
      "type": "dataFrame"
     }
    }
   },
   "outputs": [],
   "source": [
    "retails.groupby('month')['TotalAmount'].sum().rename('Total Revenue').round(-1).apply(lambda x: \"$ {:,.0f}\".format(x))"
   ]
  },
  {
   "cell_type": "code",
   "execution_count": null,
   "metadata": {
    "collapsed": false,
    "execution": {
     "iopub.execute_input": "2024-05-13T15:18:54.870379Z",
     "iopub.status.busy": "2024-05-13T15:18:54.869978Z",
     "iopub.status.idle": "2024-05-13T15:18:55.754403Z",
     "shell.execute_reply": "2024-05-13T15:18:55.753327Z",
     "shell.execute_reply.started": "2024-05-13T15:18:54.870348Z"
    },
    "executionCancelledAt": null,
    "executionTime": 637,
    "jupyter": {
     "outputs_hidden": false,
     "source_hidden": false
    },
    "lastExecutedAt": 1715583399227,
    "lastExecutedByKernel": "1a3f7a09-d5a9-4a21-a8a7-ab013628083e",
    "lastScheduledRunId": null,
    "lastSuccessfullyExecutedCode": "sns.set_style(\"darkgrid\")\nplt.figure(figsize=(10,6))\nsns.lineplot(data=retails, x='month', y='TotalAmount', marker='o', color='green', estimator = sum, ci =None) \nplt.xlabel('Month')\nplt.ylabel('Total Revenue')\nplt.gca().yaxis.set_major_formatter(mticker.StrMethodFormatter('$ {x:,.0f}'))\nplt.title('Total Revenue by Month', fontsize = 18)\nplt.grid(True)\nplt.show()"
   },
   "outputs": [],
   "source": [
    "sns.set_style(\"darkgrid\")\n",
    "plt.figure(figsize=(10,6))\n",
    "sns.lineplot(data=retails, x='month', y='TotalAmount', marker='o', color='green', estimator = sum, ci =None) \n",
    "plt.xlabel('Month')\n",
    "plt.ylabel('Total Revenue')\n",
    "plt.gca().yaxis.set_major_formatter(mticker.StrMethodFormatter('$ {x:,.0f}'))\n",
    "plt.title('Total Revenue by Month', fontsize = 18)\n",
    "plt.grid(True)\n",
    "plt.show()"
   ]
  },
  {
   "cell_type": "markdown",
   "metadata": {},
   "source": [
    "### Finding:\n",
    "- In `Jan`, `Jul` and `Dec`, the highest revenue is generated equal and greater than **2.1 million**.\n",
    "- `Feb` and `Apr` are the months with lowest revenue less than **1.98 million**.\n",
    "- In remaining months there is not much fluctuation."
   ]
  },
  {
   "cell_type": "markdown",
   "metadata": {},
   "source": [
    "### Total Monthly Revenue by Product Category"
   ]
  },
  {
   "cell_type": "code",
   "execution_count": null,
   "metadata": {
    "execution": {
     "iopub.execute_input": "2024-05-13T15:18:55.756933Z",
     "iopub.status.busy": "2024-05-13T15:18:55.756027Z",
     "iopub.status.idle": "2024-05-13T15:18:55.79703Z",
     "shell.execute_reply": "2024-05-13T15:18:55.795658Z",
     "shell.execute_reply.started": "2024-05-13T15:18:55.756888Z"
    },
    "executionCancelledAt": null,
    "executionTime": 51,
    "jupyter": {
     "source_hidden": true
    },
    "lastExecutedAt": 1715583399278,
    "lastExecutedByKernel": "1a3f7a09-d5a9-4a21-a8a7-ab013628083e",
    "lastScheduledRunId": null,
    "lastSuccessfullyExecutedCode": "monthly_rev_by_prod = retails.pivot_table(index='month', columns='ProductCategory', values='TotalAmount', aggfunc='sum').round(-1).applymap(lambda x: \"$ {:,.0f}\".format(x))\n\n# Reset the index to make 'month' a column again\nmonthly_rev_by_prod.reset_index(inplace=True)\nmonthly_rev_by_prod\n",
    "outputsMetadata": {
     "0": {
      "height": 320,
      "type": "dataFrame"
     }
    }
   },
   "outputs": [],
   "source": [
    "monthly_rev_by_prod = retails.pivot_table(index='month', columns='ProductCategory', values='TotalAmount', aggfunc='sum').round(-1).applymap(lambda x: \"$ {:,.0f}\".format(x))\n",
    "\n",
    "# Reset the index to make 'month' a column again\n",
    "monthly_rev_by_prod.reset_index(inplace=True)\n",
    "monthly_rev_by_prod\n"
   ]
  },
  {
   "cell_type": "code",
   "execution_count": null,
   "metadata": {
    "collapsed": false,
    "execution": {
     "iopub.execute_input": "2024-05-13T15:18:55.804989Z",
     "iopub.status.busy": "2024-05-13T15:18:55.804558Z",
     "iopub.status.idle": "2024-05-13T15:18:58.002809Z",
     "shell.execute_reply": "2024-05-13T15:18:57.999734Z",
     "shell.execute_reply.started": "2024-05-13T15:18:55.804951Z"
    },
    "executionCancelledAt": null,
    "executionTime": 1593,
    "jupyter": {
     "outputs_hidden": false,
     "source_hidden": false
    },
    "lastExecutedAt": 1715583400871,
    "lastExecutedByKernel": "1a3f7a09-d5a9-4a21-a8a7-ab013628083e",
    "lastScheduledRunId": null,
    "lastSuccessfullyExecutedCode": "fig, axs = plt.subplots(2, 2, figsize=(14, 8))  # Create 2x2 subplot structure\nfig.suptitle('Total Revenue by Month and Product Category', fontsize=20)\n\ncategories = retails['ProductCategory'].unique()\ncolors = ['blue', 'green', 'red', 'purple']  # Define a list of colors for the plots\nfor ax, category, color in zip(axs.flatten(), categories, colors):\n    sns.lineplot(data=retails[retails['ProductCategory'] == category], x='month', y='TotalAmount', marker='o', estimator=sum, ci=None, ax=ax, color=color)\n    ax.set_title(category)\n    ax.set_xlabel('Month', fontsize=14)\n    ax.set_ylabel('Total Revenue', fontsize=14)\n    ax.yaxis.set_major_formatter(mticker.StrMethodFormatter('$ {x:,.0f}'))\n    ax.grid(True)\n\nplt.tight_layout(rect=[0, 0.03, 1, 0.95])  # Adjust layout to make room for the main title\nplt.show()"
   },
   "outputs": [],
   "source": [
    "fig, axs = plt.subplots(2, 2, figsize=(14, 8))  # Create 2x2 subplot structure\n",
    "fig.suptitle('Total Revenue by Month and Product Category', fontsize=20)\n",
    "\n",
    "categories = retails['ProductCategory'].unique()\n",
    "colors = ['blue', 'green', 'red', 'purple']  # Define a list of colors for the plots\n",
    "for ax, category, color in zip(axs.flatten(), categories, colors):\n",
    "    sns.lineplot(data=retails[retails['ProductCategory'] == category], x='month', y='TotalAmount', marker='o', estimator=sum, ci=None, ax=ax, color=color)\n",
    "    ax.set_title(category)\n",
    "    ax.set_xlabel('Month', fontsize=14)\n",
    "    ax.set_ylabel('Total Revenue', fontsize=14)\n",
    "    ax.yaxis.set_major_formatter(mticker.StrMethodFormatter('$ {x:,.0f}'))\n",
    "    ax.grid(True)\n",
    "\n",
    "plt.tight_layout(rect=[0, 0.03, 1, 0.95])  # Adjust layout to make room for the main title\n",
    "plt.show()"
   ]
  },
  {
   "cell_type": "markdown",
   "metadata": {},
   "source": [
    "The line graph illustrates the monthly sales trends for four distinct product categories.\n",
    "\n",
    "**Books:**\n",
    "\n",
    "- Sales of **$540,000** or more occur in **March, July, August, and December**.\n",
    "- In **January, May, June, and November**, sales range between **$(518 and 530)** .\n",
    "- Lowest sales below **$500,000** happen in **February, April, September, and October**.\n",
    "\n",
    "**Home Decor:**\n",
    "\n",
    "- Highest sales, exceeding **$540,000**, were observed in **January and July**.\n",
    "- Sales were below **$500,000** in **February and April.**\n",
    "- Sales in the remaining months ranged between **$(500,000 and 530,000)**.\n",
    "\n",
    "**Electronics:**\n",
    "\n",
    "- Highest sales, exceeding **$540,000**, were observed in **October**.\n",
    "- Lowest sales were recorded in **February and April**, of **$(485,000 and 460,000)** respectively.\n",
    "- Sales in the remaining months ranged between **$(510,000 and 535,000)**.\n",
    "\n",
    "**Clothing:**\n",
    "\n",
    "- Highest sales, equal to or greater than **$540,000**, were observed in **August and December**.\n",
    "- Lowest sales, falling below **$500,000**, were recorded in **April, October, and November**.\n",
    "- Sales in the remaining months averaged around **$520,000**."
   ]
  },
  {
   "cell_type": "markdown",
   "metadata": {},
   "source": [
    "### Average Sales by Day of Week"
   ]
  },
  {
   "cell_type": "code",
   "execution_count": null,
   "metadata": {
    "execution": {
     "iopub.execute_input": "2024-05-13T15:18:58.004931Z",
     "iopub.status.busy": "2024-05-13T15:18:58.00449Z",
     "iopub.status.idle": "2024-05-13T15:18:58.032807Z",
     "shell.execute_reply": "2024-05-13T15:18:58.031288Z",
     "shell.execute_reply.started": "2024-05-13T15:18:58.004881Z"
    },
    "executionCancelledAt": null,
    "executionTime": 50,
    "jupyter": {
     "source_hidden": true
    },
    "lastExecutedAt": 1715583400921,
    "lastExecutedByKernel": "1a3f7a09-d5a9-4a21-a8a7-ab013628083e",
    "lastScheduledRunId": null,
    "lastSuccessfullyExecutedCode": "# Setting DayOfWeek as category\nretails['DayOfWeek']=retails['DayOfWeek'].astype('category')\nretails['DayOfWeek']=retails['DayOfWeek'].cat.set_categories(\n    new_categories = ['Monday', 'Tuesday', 'Wednesday', 'Thursday', 'Friday', 'Saturday', 'Sunday'],\n    ordered = True,\n)\n",
    "outputsMetadata": {
     "0": {
      "height": 246,
      "type": "dataFrame"
     }
    }
   },
   "outputs": [],
   "source": [
    "# Setting DayOfWeek as category\n",
    "retails['DayOfWeek']=retails['DayOfWeek'].astype('category')\n",
    "retails['DayOfWeek']=retails['DayOfWeek'].cat.set_categories(\n",
    "    new_categories = ['Monday', 'Tuesday', 'Wednesday', 'Thursday', 'Friday', 'Saturday', 'Sunday'],\n",
    "    ordered = True,\n",
    ")\n"
   ]
  },
  {
   "cell_type": "code",
   "execution_count": null,
   "metadata": {
    "execution": {
     "iopub.execute_input": "2024-05-13T15:18:58.034814Z",
     "iopub.status.busy": "2024-05-13T15:18:58.034446Z",
     "iopub.status.idle": "2024-05-13T15:18:58.05355Z",
     "shell.execute_reply": "2024-05-13T15:18:58.051849Z",
     "shell.execute_reply.started": "2024-05-13T15:18:58.034781Z"
    },
    "executionCancelledAt": null,
    "executionTime": 49,
    "jupyter": {
     "source_hidden": true
    },
    "lastExecutedAt": 1715583400970,
    "lastExecutedByKernel": "1a3f7a09-d5a9-4a21-a8a7-ab013628083e",
    "lastScheduledRunId": null,
    "lastSuccessfullyExecutedCode": "retails.groupby(\"DayOfWeek\")['TotalAmount'].mean().rename('Average Sales').apply(lambda x: \"$ {:,.2f}\".format(x))",
    "outputsMetadata": {
     "0": {
      "height": 245,
      "type": "dataFrame"
     }
    }
   },
   "outputs": [],
   "source": [
    "retails.groupby(\"DayOfWeek\")['TotalAmount'].mean().rename('Average Sales').apply(lambda x: \"$ {:,.2f}\".format(x))"
   ]
  },
  {
   "cell_type": "code",
   "execution_count": null,
   "metadata": {
    "collapsed": false,
    "execution": {
     "iopub.execute_input": "2024-05-13T15:18:58.05635Z",
     "iopub.status.busy": "2024-05-13T15:18:58.055812Z",
     "iopub.status.idle": "2024-05-13T15:18:58.649173Z",
     "shell.execute_reply": "2024-05-13T15:18:58.646753Z",
     "shell.execute_reply.started": "2024-05-13T15:18:58.056304Z"
    },
    "executionCancelledAt": null,
    "executionTime": 494,
    "jupyter": {
     "outputs_hidden": false,
     "source_hidden": false
    },
    "lastExecutedAt": 1715583401464,
    "lastExecutedByKernel": "1a3f7a09-d5a9-4a21-a8a7-ab013628083e",
    "lastScheduledRunId": null,
    "lastSuccessfullyExecutedCode": "plt.figure(figsize = (10,6))\nsns.lineplot(data = retails, x = 'DayOfWeek', y = 'TotalAmount', estimator = \"mean\", ci = None, marker = 'o')\nplt.title(\"Average Sales on Daily Basis\", fontsize = 18)\nplt.ylabel(\"Average Sales in $\", fontsize = 13)\nplt.xlabel(\"Week Days\", fontsize = 13)\nplt.gca().yaxis.set_major_formatter(mticker.StrMethodFormatter('{x:,.0f}'))\nplt.grid(True)\nplt.show()"
   },
   "outputs": [],
   "source": [
    "plt.figure(figsize = (10,6))\n",
    "sns.lineplot(data = retails, x = 'DayOfWeek', y = 'TotalAmount', estimator = \"mean\", ci = None, marker = 'o')\n",
    "plt.title(\"Average Sales on Daily Basis\", fontsize = 18)\n",
    "plt.ylabel(\"Average Sales in $\", fontsize = 13)\n",
    "plt.xlabel(\"Week Days\", fontsize = 13)\n",
    "plt.gca().yaxis.set_major_formatter(mticker.StrMethodFormatter('{x:,.0f}'))\n",
    "plt.grid(True)\n",
    "plt.show()"
   ]
  },
  {
   "cell_type": "markdown",
   "metadata": {},
   "source": [
    "### Finding :\n",
    "- More than **$ 251** of average sales have produced on **Thursday**.\n",
    "- **Monday** experiences lowest average sales of **$ 245**.\n",
    "- In remaining days, the average sales ranges **$(247.4 - 249.5)**"
   ]
  },
  {
   "cell_type": "markdown",
   "metadata": {},
   "source": [
    "### Average Daily Sales By Product Category"
   ]
  },
  {
   "cell_type": "code",
   "execution_count": null,
   "metadata": {
    "collapsed": false,
    "execution": {
     "iopub.execute_input": "2024-05-13T15:18:58.651067Z",
     "iopub.status.busy": "2024-05-13T15:18:58.650692Z",
     "iopub.status.idle": "2024-05-13T15:19:00.566998Z",
     "shell.execute_reply": "2024-05-13T15:19:00.565292Z",
     "shell.execute_reply.started": "2024-05-13T15:18:58.651035Z"
    },
    "executionCancelledAt": null,
    "executionTime": 1430,
    "jupyter": {
     "outputs_hidden": false,
     "source_hidden": false
    },
    "lastExecutedAt": 1715583402895,
    "lastExecutedByKernel": "1a3f7a09-d5a9-4a21-a8a7-ab013628083e",
    "lastScheduledRunId": null,
    "lastSuccessfullyExecutedCode": "fig, axs = plt.subplots(2, 2, figsize=(14, 8))  # Create 2x2 subplot structure\nfig.suptitle('Average Daily Sales by Product Category', fontsize=20)\n\ncategories = retails['ProductCategory'].unique()\ncolors = ['blue', 'green', 'red', 'purple']  # Define a list of colors for the plots\nfor ax, category, color in zip(axs.flatten(), categories, colors):\n    sns.lineplot(data=retails[retails['ProductCategory'] == category], x='DayOfWeek', y='TotalAmount', marker='o', estimator='mean', ci=None, ax=ax, color=color)\n    ax.set_title(category, fontsize = 16)\n    ax.set_xlabel('Day of Week', fontsize=14)\n    ax.set_ylabel('Average Sales in dollars', fontsize=14)\n    ax.grid(True)\n\nplt.tight_layout(rect=[0, 0.03, 1, 0.95])  # Adjust layout to make room for the main title\nplt.show()"
   },
   "outputs": [],
   "source": [
    "fig, axs = plt.subplots(2, 2, figsize=(14, 8))  # Create 2x2 subplot structure\n",
    "fig.suptitle('Average Daily Sales by Product Category', fontsize=20)\n",
    "\n",
    "categories = retails['ProductCategory'].unique()\n",
    "colors = ['blue', 'green', 'red', 'purple']  # Define a list of colors for the plots\n",
    "for ax, category, color in zip(axs.flatten(), categories, colors):\n",
    "    sns.lineplot(data=retails[retails['ProductCategory'] == category], x='DayOfWeek', y='TotalAmount', marker='o', estimator='mean', ci=None, ax=ax, color=color)\n",
    "    ax.set_title(category, fontsize = 16)\n",
    "    ax.set_xlabel('Day of Week', fontsize=14)\n",
    "    ax.set_ylabel('Average Sales in dollars', fontsize=14)\n",
    "    ax.grid(True)\n",
    "\n",
    "plt.tight_layout(rect=[0, 0.03, 1, 0.95])  # Adjust layout to make room for the main title\n",
    "plt.show()"
   ]
  },
  {
   "cell_type": "markdown",
   "metadata": {},
   "source": [
    "The line graph illustrates the Daily sales trends for four distinct product categories.\n",
    "\n",
    "**Books:**\n",
    " \n",
    "- From **Monday to Friday**, there's a consistent increase in sales from `$245 to $253`. However, after Friday, sales decline to `$249` over the weekend **(Saturday and Sunday)**.\n",
    "\n",
    "**Home Decor:**\n",
    "\n",
    "- Sales began at `$250` on **Monday**, gradually decreasing to `$244` approaching **Wednesday**. There was a steep increase to `$252` on **Thursday**, followed by another gradual decrease to `$244` on **Friday, Saturday, and Sunday**.\n",
    "\n",
    "**Electronics:**\n",
    "\n",
    "- The average sales hit their lowest point on **Monday** and **Tuesday** at `$243`. There was a sharp increase on **Wednesday** to `$250`, which remained consistent through **Sunday**.\n",
    "\n",
    "**Clothing:**\n",
    "\n",
    "- Sales were lowest on **Monday** at `$242`, then increased to `$252` on **Tuesday**. The remaining days experienced an average of `$248`."
   ]
  },
  {
   "cell_type": "markdown",
   "metadata": {},
   "source": [
    "## Customer Spending Patterns"
   ]
  },
  {
   "cell_type": "markdown",
   "metadata": {},
   "source": [
    "### What is the average quantity and price per transaction?"
   ]
  },
  {
   "cell_type": "code",
   "execution_count": null,
   "metadata": {
    "execution": {
     "iopub.execute_input": "2024-05-13T15:19:00.56957Z",
     "iopub.status.busy": "2024-05-13T15:19:00.568929Z",
     "iopub.status.idle": "2024-05-13T15:19:00.580684Z",
     "shell.execute_reply": "2024-05-13T15:19:00.578028Z",
     "shell.execute_reply.started": "2024-05-13T15:19:00.569522Z"
    },
    "executionCancelledAt": null,
    "executionTime": 47,
    "lastExecutedAt": 1715583402942,
    "lastExecutedByKernel": "1a3f7a09-d5a9-4a21-a8a7-ab013628083e",
    "lastScheduledRunId": null,
    "lastSuccessfullyExecutedCode": "print(f'Average Quantity per transaction : {retails[\"Quantity\"].mean().round(0)}')\nprint(f'Average Price per transaction : {retails[\"TotalAmount\"].mean().round(-2)}')",
    "outputsMetadata": {
     "0": {
      "height": 59,
      "type": "stream"
     }
    }
   },
   "outputs": [],
   "source": [
    "print(f'Average Quantity per transaction : {retails[\"Quantity\"].mean().round(0)}')\n",
    "print(f'Average Price per transaction : {retails[\"TotalAmount\"].mean().round(-2)}')"
   ]
  },
  {
   "cell_type": "markdown",
   "metadata": {},
   "source": [
    "### What is the average quantity and price per transaction for each product category?"
   ]
  },
  {
   "cell_type": "code",
   "execution_count": null,
   "metadata": {
    "execution": {
     "iopub.execute_input": "2024-05-13T15:19:00.584607Z",
     "iopub.status.busy": "2024-05-13T15:19:00.583488Z",
     "iopub.status.idle": "2024-05-13T15:19:00.623877Z",
     "shell.execute_reply": "2024-05-13T15:19:00.621938Z",
     "shell.execute_reply.started": "2024-05-13T15:19:00.584532Z"
    },
    "executionCancelledAt": null,
    "executionTime": 51,
    "lastExecutedAt": 1715583402993,
    "lastExecutedByKernel": "1a3f7a09-d5a9-4a21-a8a7-ab013628083e",
    "lastScheduledRunId": null,
    "lastSuccessfullyExecutedCode": "retails.groupby('ProductCategory').agg(\n    Average_Quantity=('Quantity', lambda x: round(x.mean(), 0)),\n    Average_Price=('TotalAmount', lambda x: round(x.mean(), 2))\n)\n",
    "outputsMetadata": {
     "0": {
      "height": 170,
      "type": "dataFrame"
     }
    }
   },
   "outputs": [],
   "source": [
    "retails.groupby('ProductCategory').agg(\n",
    "    Average_Quantity=('Quantity', lambda x: round(x.mean(), 0)),\n",
    "    Average_Price=('TotalAmount', lambda x: round(x.mean(), 2))\n",
    ")\n"
   ]
  },
  {
   "cell_type": "markdown",
   "metadata": {},
   "source": [
    "### How does the payment method chosen by customers vary based on the total amount spent?"
   ]
  },
  {
   "cell_type": "code",
   "execution_count": null,
   "metadata": {
    "execution": {
     "iopub.execute_input": "2024-05-13T15:19:00.627115Z",
     "iopub.status.busy": "2024-05-13T15:19:00.626342Z",
     "iopub.status.idle": "2024-05-13T15:19:00.643848Z",
     "shell.execute_reply": "2024-05-13T15:19:00.641646Z",
     "shell.execute_reply.started": "2024-05-13T15:19:00.627075Z"
    },
    "executionCancelledAt": null,
    "executionTime": 47,
    "lastExecutedAt": 1715583403041,
    "lastExecutedByKernel": "1a3f7a09-d5a9-4a21-a8a7-ab013628083e",
    "lastScheduledRunId": null,
    "lastSuccessfullyExecutedCode": "retails.groupby('PaymentMethod')['TotalAmount'].mean().round(2)",
    "outputsMetadata": {
     "0": {
      "height": 170,
      "type": "dataFrame"
     }
    }
   },
   "outputs": [],
   "source": [
    "retails.groupby('PaymentMethod')['TotalAmount'].mean().round(2)"
   ]
  },
  {
   "cell_type": "code",
   "execution_count": null,
   "metadata": {
    "collapsed": false,
    "execution": {
     "iopub.execute_input": "2024-05-13T15:19:00.645976Z",
     "iopub.status.busy": "2024-05-13T15:19:00.645539Z",
     "iopub.status.idle": "2024-05-13T15:19:00.96211Z",
     "shell.execute_reply": "2024-05-13T15:19:00.96057Z",
     "shell.execute_reply.started": "2024-05-13T15:19:00.645937Z"
    },
    "executionCancelledAt": null,
    "executionTime": 251,
    "jupyter": {
     "outputs_hidden": false,
     "source_hidden": false
    },
    "lastExecutedAt": 1715583403293,
    "lastExecutedByKernel": "1a3f7a09-d5a9-4a21-a8a7-ab013628083e",
    "lastScheduledRunId": null,
    "lastSuccessfullyExecutedCode": "plt.figure(figsize=(5,4))\nax = sns.barplot(data = retails, x = 'PaymentMethod', y = 'TotalAmount', ci=None, palette='viridis')\nplt.ylim(247, 250)\n\n# Adding the text on top of the bars\nfor p in ax.patches:\n    ax.annotate(format(p.get_height(), '.2f'), \n                (p.get_x() + p.get_width() / 2., p.get_height()), \n                ha = 'center', va = 'center', \n                xytext = (0, 10), \n                textcoords = 'offset points')\n\nplt.show()"
   },
   "outputs": [],
   "source": [
    "plt.figure(figsize=(5,4))\n",
    "ax = sns.barplot(data = retails, x = 'PaymentMethod', y = 'TotalAmount', ci=None, palette='viridis')\n",
    "plt.ylim(247, 250)\n",
    "\n",
    "# Adding the text on top of the bars\n",
    "for p in ax.patches:\n",
    "    ax.annotate(format(p.get_height(), '.2f'), \n",
    "                (p.get_x() + p.get_width() / 2., p.get_height()), \n",
    "                ha = 'center', va = 'center', \n",
    "                xytext = (0, 10), \n",
    "                textcoords = 'offset points')\n",
    "\n",
    "plt.show()"
   ]
  },
  {
   "cell_type": "markdown",
   "metadata": {},
   "source": [
    "Above bar chart illustrates the variation of total amounts by payment methods. The observations are:\n",
    "- There is not a very high difference in all methods, however **Debit Card** is usually used when payment is averaged around `249.21`.\n",
    "- **Cash** and **Paypal** methods are frequently used for average payments around `248.17`.\n",
    "- **Credit cards** have been used with lower payments of around `247.80`."
   ]
  },
  {
   "cell_type": "markdown",
   "metadata": {},
   "source": [
    "### Is there a correlation between the discount applied and the total amount spent by customers?"
   ]
  },
  {
   "cell_type": "code",
   "execution_count": null,
   "metadata": {
    "execution": {
     "iopub.execute_input": "2024-05-13T15:19:00.964694Z",
     "iopub.status.busy": "2024-05-13T15:19:00.964289Z",
     "iopub.status.idle": "2024-05-13T15:19:00.976744Z",
     "shell.execute_reply": "2024-05-13T15:19:00.975227Z",
     "shell.execute_reply.started": "2024-05-13T15:19:00.964666Z"
    },
    "executionCancelledAt": null,
    "executionTime": 48,
    "lastExecutedAt": 1715583403342,
    "lastExecutedByKernel": "1a3f7a09-d5a9-4a21-a8a7-ab013628083e",
    "lastScheduledRunId": null,
    "lastSuccessfullyExecutedCode": "print(f\"Correlation between discount applied and Total amount spent is : {round(retails['TotalAmount'].corr(retails['DiscountApplied(%)']), 3)}\")",
    "outputsMetadata": {
     "0": {
      "height": 38,
      "type": "stream"
     }
    }
   },
   "outputs": [],
   "source": [
    "print(f\"Correlation between discount applied and Total amount spent is : {round(retails['TotalAmount'].corr(retails['DiscountApplied(%)']), 3)}\")"
   ]
  },
  {
   "cell_type": "code",
   "execution_count": null,
   "metadata": {
    "collapsed": false,
    "execution": {
     "iopub.execute_input": "2024-05-13T15:19:00.979653Z",
     "iopub.status.busy": "2024-05-13T15:19:00.978505Z",
     "iopub.status.idle": "2024-05-13T15:19:01.479337Z",
     "shell.execute_reply": "2024-05-13T15:19:01.477869Z",
     "shell.execute_reply.started": "2024-05-13T15:19:00.979581Z"
    },
    "executionCancelledAt": null,
    "executionTime": 493,
    "jupyter": {
     "outputs_hidden": false,
     "source_hidden": false
    },
    "lastExecutedAt": 1715583403835,
    "lastExecutedByKernel": "1a3f7a09-d5a9-4a21-a8a7-ab013628083e",
    "lastScheduledRunId": null,
    "lastSuccessfullyExecutedCode": "plt.figure(figsize=(6, 4))\nsns.scatterplot(data=retails.sample(frac=0.05), x='TotalAmount', y='DiscountApplied(%)', alpha=0.5, color='red')\nplt.title('Scatter Plot of Total Amount vs. Discount Applied')\nplt.xlabel('Total Amount')\nplt.ylabel('Discount Applied (%)')\nplt.show()"
   },
   "outputs": [],
   "source": [
    "plt.figure(figsize=(6, 4))\n",
    "sns.scatterplot(data=retails.sample(frac=0.05), x='TotalAmount', y='DiscountApplied(%)', alpha=0.5, color='red')\n",
    "plt.title('Scatter Plot of Total Amount vs. Discount Applied')\n",
    "plt.xlabel('Total Amount')\n",
    "plt.ylabel('Discount Applied (%)')\n",
    "plt.show()"
   ]
  },
  {
   "cell_type": "markdown",
   "metadata": {},
   "source": [
    "Above scatter plot shows that there is not an strong relationship between `TotalAmount` and `DiscountApplied`, however a low negative correlation exists between them."
   ]
  },
  {
   "cell_type": "markdown",
   "metadata": {},
   "source": [
    "## Geographical Analysis:"
   ]
  },
  {
   "cell_type": "markdown",
   "metadata": {},
   "source": [
    "### How does sales performance vary across different states?"
   ]
  },
  {
   "cell_type": "code",
   "execution_count": null,
   "metadata": {
    "execution": {
     "iopub.execute_input": "2024-05-13T15:19:01.481789Z",
     "iopub.status.busy": "2024-05-13T15:19:01.481388Z",
     "iopub.status.idle": "2024-05-13T15:19:01.510223Z",
     "shell.execute_reply": "2024-05-13T15:19:01.509222Z",
     "shell.execute_reply.started": "2024-05-13T15:19:01.481758Z"
    },
    "executionCancelledAt": null,
    "executionTime": 55,
    "jupyter": {
     "source_hidden": true
    },
    "lastExecutedAt": 1715583403890,
    "lastExecutedByKernel": "1a3f7a09-d5a9-4a21-a8a7-ab013628083e",
    "lastScheduledRunId": null,
    "lastSuccessfullyExecutedCode": "retails_state = retails.groupby('State')['TotalAmount'].sum().round(-2).rename('Total Sales').sort_values(ascending = False).apply(lambda x: \"$ {:,.0f}\".format(x)).reset_index()\nretails_state",
    "outputsMetadata": {
     "0": {
      "height": 320,
      "type": "dataFrame"
     }
    }
   },
   "outputs": [],
   "source": [
    "retails_state = retails.groupby('State')['TotalAmount'].sum().round(-2).rename('Total Sales').sort_values(ascending = False).apply(lambda x: \"$ {:,.0f}\".format(x)).reset_index()\n",
    "retails_state"
   ]
  },
  {
   "cell_type": "code",
   "execution_count": null,
   "metadata": {
    "execution": {
     "iopub.execute_input": "2024-05-13T15:19:01.512254Z",
     "iopub.status.busy": "2024-05-13T15:19:01.5118Z",
     "iopub.status.idle": "2024-05-13T15:19:01.960775Z",
     "shell.execute_reply": "2024-05-13T15:19:01.959273Z",
     "shell.execute_reply.started": "2024-05-13T15:19:01.512217Z"
    },
    "executionCancelledAt": null,
    "executionTime": 378,
    "lastExecutedAt": 1715583404268,
    "lastExecutedByKernel": "1a3f7a09-d5a9-4a21-a8a7-ab013628083e",
    "lastScheduledRunId": null,
    "lastSuccessfullyExecutedCode": "top_10_states = retails.groupby('State')['TotalAmount'].sum().reset_index().query('TotalAmount > 388000')\nsns.barplot(data = top_10_states, x = 'TotalAmount', y = 'State', estimator = sum, palette = \"vlag\")\nplt.title(\"Total Sales in States\", fontsize = 18)\nplt.xlabel('Total Sales', fontsize = 14)\nplt.ylabel('States', fontsize = 14)\nplt.xlim(300000, 950000)\nplt.show()"
   },
   "outputs": [],
   "source": [
    "top_10_states = retails.groupby('State')['TotalAmount'].sum().reset_index().query('TotalAmount > 388000')\n",
    "sns.barplot(data = top_10_states, x = 'TotalAmount', y = 'State', estimator = sum, palette = \"vlag\")\n",
    "plt.title(\"Total Sales in States\", fontsize = 18)\n",
    "plt.xlabel('Total Sales', fontsize = 14)\n",
    "plt.ylabel('States', fontsize = 14)\n",
    "plt.xlim(300000, 950000)\n",
    "plt.show()"
   ]
  },
  {
   "cell_type": "markdown",
   "metadata": {},
   "source": [
    "The **Bar chart** shows that:\n",
    "- `Armed Forces` states have produced higher sales exceeding `$900,000`\n",
    "- Sales of `$400,000` or lower were produced in other states."
   ]
  },
  {
   "cell_type": "markdown",
   "metadata": {},
   "source": [
    "### Are there specific states where certain product categories perform exceptionally well or poorly?"
   ]
  },
  {
   "cell_type": "code",
   "execution_count": null,
   "metadata": {
    "execution": {
     "iopub.execute_input": "2024-05-13T15:19:01.96344Z",
     "iopub.status.busy": "2024-05-13T15:19:01.962467Z",
     "iopub.status.idle": "2024-05-13T15:19:02.013815Z",
     "shell.execute_reply": "2024-05-13T15:19:02.012827Z",
     "shell.execute_reply.started": "2024-05-13T15:19:01.963402Z"
    },
    "executionCancelledAt": null,
    "executionTime": 55,
    "lastExecutedAt": 1715583404323,
    "lastExecutedByKernel": "1a3f7a09-d5a9-4a21-a8a7-ab013628083e",
    "lastScheduledRunId": null,
    "lastSuccessfullyExecutedCode": "states_and_products = retails.pivot_table(index='State', columns='ProductCategory', values='TotalAmount', aggfunc='sum', fill_value=0)\nstates_and_products.sort_values(by='Books', ascending = False).applymap(lambda x: \"$ {:,.0f}\".format(x))",
    "outputsMetadata": {
     "0": {
      "height": 320,
      "type": "dataFrame"
     }
    }
   },
   "outputs": [],
   "source": [
    "states_and_products = retails.pivot_table(index='State', columns='ProductCategory', values='TotalAmount', aggfunc='sum', fill_value=0)\n",
    "states_and_products.sort_values(by='Books', ascending = False).applymap(lambda x: \"$ {:,.0f}\".format(x))"
   ]
  },
  {
   "cell_type": "code",
   "execution_count": null,
   "metadata": {
    "execution": {
     "iopub.execute_input": "2024-05-13T15:19:02.016405Z",
     "iopub.status.busy": "2024-05-13T15:19:02.015296Z",
     "iopub.status.idle": "2024-05-13T15:19:20.385608Z",
     "shell.execute_reply": "2024-05-13T15:19:20.384283Z",
     "shell.execute_reply.started": "2024-05-13T15:19:02.01637Z"
    },
    "executionCancelledAt": null,
    "executionTime": null,
    "lastExecutedAt": null,
    "lastExecutedByKernel": null,
    "lastScheduledRunId": null,
    "lastSuccessfullyExecutedCode": null,
    "outputsMetadata": {
     "0": {
      "height": 458,
      "type": "stream"
     }
    }
   },
   "outputs": [],
   "source": [
    "pip install --upgrade seaborn\n"
   ]
  },
  {
   "cell_type": "code",
   "execution_count": null,
   "metadata": {
    "execution": {
     "iopub.execute_input": "2024-05-13T15:19:20.388403Z",
     "iopub.status.busy": "2024-05-13T15:19:20.388002Z",
     "iopub.status.idle": "2024-05-13T15:19:21.178958Z",
     "shell.execute_reply": "2024-05-13T15:19:21.177579Z",
     "shell.execute_reply.started": "2024-05-13T15:19:20.388366Z"
    },
    "executionCancelledAt": null,
    "executionTime": 715,
    "lastExecutedAt": 1715583410798,
    "lastExecutedByKernel": "1a3f7a09-d5a9-4a21-a8a7-ab013628083e",
    "lastScheduledRunId": null,
    "lastSuccessfullyExecutedCode": "\n# Creating a pivot table without sorting by 'Books'\nstates_and_products = retails.pivot_table(index='State', columns='ProductCategory', values='TotalAmount', aggfunc='sum', fill_value=0)\n\n# Selecting the top 15 states based on total sales across all categories\ntop_15_states = states_and_products.sum(axis=1).nlargest(15).index\n\n# Filtering the pivot table to include only the top 15 states\ntop_15_states_data = states_and_products.loc[top_15_states]\n\n# Creating a heatmap\nplt.figure(figsize=(10, 8))\nsns.heatmap(top_15_states_data, annot=True, fmt=\".0f\", cmap=\"YlGnBu\", linewidths=.5)\nplt.title('Sales by Product Category in Top 15 States')\nplt.ylabel('State')\nplt.xlabel('Product Category')\nplt.show()"
   },
   "outputs": [],
   "source": [
    "\n",
    "# Creating a pivot table without sorting by 'Books'\n",
    "states_and_products = retails.pivot_table(index='State', columns='ProductCategory', values='TotalAmount', aggfunc='sum', fill_value=0)\n",
    "\n",
    "# Selecting the top 15 states based on total sales across all categories\n",
    "top_15_states = states_and_products.sum(axis=1).nlargest(15).index\n",
    "\n",
    "# Filtering the pivot table to include only the top 15 states\n",
    "top_15_states_data = states_and_products.loc[top_15_states]\n",
    "\n",
    "# Creating a heatmap\n",
    "plt.figure(figsize=(10, 8))\n",
    "sns.heatmap(top_15_states_data, annot=True, fmt=\".0f\", cmap=\"YlGnBu\", linewidths=.5)\n",
    "plt.title('Sales by Product Category in Top 15 States')\n",
    "plt.ylabel('State')\n",
    "plt.xlabel('Product Category')\n",
    "plt.show()"
   ]
  },
  {
   "cell_type": "markdown",
   "metadata": {},
   "source": [
    "In this heatmap, it's evident that the **armed states** consistently lead in sales across all categories, while sales in other states remain relatively lower and stable, showing minimal fluctuations."
   ]
  },
  {
   "cell_type": "markdown",
   "metadata": {},
   "source": [
    "### What is the distribution of payment methods used across different states?"
   ]
  },
  {
   "cell_type": "code",
   "execution_count": null,
   "metadata": {
    "execution": {
     "iopub.execute_input": "2024-05-13T15:19:21.181583Z",
     "iopub.status.busy": "2024-05-13T15:19:21.18105Z",
     "iopub.status.idle": "2024-05-13T15:19:21.243046Z",
     "shell.execute_reply": "2024-05-13T15:19:21.241784Z",
     "shell.execute_reply.started": "2024-05-13T15:19:21.181542Z"
    },
    "executionCancelledAt": null,
    "executionTime": 48,
    "jupyter": {
     "source_hidden": true
    },
    "lastExecutedAt": 1715583410846,
    "lastExecutedByKernel": "1a3f7a09-d5a9-4a21-a8a7-ab013628083e",
    "lastScheduledRunId": null,
    "lastSuccessfullyExecutedCode": "state_payment = (pd.crosstab(retails['State'], retails['PaymentMethod'], normalize='index') * 100).round(2)\nstate_payment.astype(str)+'%'",
    "outputsMetadata": {
     "0": {
      "height": 320,
      "type": "dataFrame"
     }
    }
   },
   "outputs": [],
   "source": [
    "state_payment = (pd.crosstab(retails['State'], retails['PaymentMethod'], normalize='index') * 100).round(2)\n",
    "state_payment.astype(str)+'%'"
   ]
  },
  {
   "cell_type": "markdown",
   "metadata": {},
   "source": [
    "The pivot_table analysis indicates:\n",
    "- Consistency is observed in the distribution of payment methods across all states, with minimal fluctuation.\n",
    "- While certain states exhibit slight preferences for specific methods, the overall variations are relatively minor."
   ]
  },
  {
   "cell_type": "markdown",
   "metadata": {},
   "source": [
    "## Temporal analysis:"
   ]
  },
  {
   "cell_type": "markdown",
   "metadata": {},
   "source": [
    "### Are there any notable changes in customer behavior or spending habits over time?"
   ]
  },
  {
   "cell_type": "code",
   "execution_count": null,
   "metadata": {
    "execution": {
     "iopub.execute_input": "2024-05-13T15:19:21.244892Z",
     "iopub.status.busy": "2024-05-13T15:19:21.244558Z",
     "iopub.status.idle": "2024-05-13T15:19:21.841592Z",
     "shell.execute_reply": "2024-05-13T15:19:21.840009Z",
     "shell.execute_reply.started": "2024-05-13T15:19:21.244863Z"
    },
    "executionCancelledAt": null,
    "executionTime": 533,
    "lastExecutedAt": 1715583411379,
    "lastExecutedByKernel": "1a3f7a09-d5a9-4a21-a8a7-ab013628083e",
    "lastScheduledRunId": null,
    "lastSuccessfullyExecutedCode": "sns.set_style(\"darkgrid\")\nplt.figure(figsize=(10,6))\nsns.lineplot(data=retails, x='month', y='Quantity', marker='o', color='seagreen', estimator = 'sum', ci =None) \nplt.xlabel('Month')\nplt.ylabel('Quantity purchased')\nplt.title('Average Quantity by Month', fontsize = 18)\nplt.grid(True)\nplt.show()"
   },
   "outputs": [],
   "source": [
    "sns.set_style(\"darkgrid\")\n",
    "plt.figure(figsize=(10,6))\n",
    "sns.lineplot(data=retails, x='month', y='Quantity', marker='o', color='seagreen', estimator = 'sum', ci =None) \n",
    "plt.xlabel('Month')\n",
    "plt.ylabel('Quantity purchased')\n",
    "plt.title('Average Quantity by Month', fontsize = 18)\n",
    "plt.grid(True)\n",
    "plt.show()"
   ]
  },
  {
   "cell_type": "markdown",
   "metadata": {},
   "source": [
    "Above line chart expresses customer behavior over the past 12 months : \n",
    "- The total quantity bought by customers is around `42000` - `43000` in months **Jan**, **Mar**, **May**, **July**, **Aug** and **Dec**.\n",
    "- Total quantity was reduced to `40000` in **Feb** and under `39300` in **Apr**.\n",
    "- The quantity was around `41200` in **Sep** which consistently rise through last 4 months."
   ]
  },
  {
   "cell_type": "markdown",
   "metadata": {},
   "source": [
    "# Key Findings:"
   ]
  },
  {
   "cell_type": "markdown",
   "metadata": {},
   "source": [
    "\n",
    "\n",
    "1. **Sales Distribution by Category**:\n",
    "   - Books contribute the highest to total revenue at `25.2%`, followed closely by other categories at slightly less than `25%` each.\n",
    "   - Books consistently show higher sales in March, July, August, and December, while experiencing lower sales in February, April, September, and October.\n",
    "   - Home Decor and Clothing also exhibit seasonal variations in sales, with peaks in January, July, August, and December.\n",
    "   - Electronics show a notable peak in October, with lower sales in February and April.\n",
    "\n",
    "2. **Sales by Day of the Week**:\n",
    "   - Thursday consistently sees the highest average sales across all categories, followed by a gradual decline towards Monday, which records the lowest average sales.\n",
    "   - Books show a steady increase in sales from Monday to Friday, with a decline over the weekend.\n",
    "   - Home Decor and Electronics also follow a similar pattern with varying average sales throughout the week.\n",
    "   - Clothing shows a peak on Tuesday with decreasing sales towards the weekend.\n",
    "\n",
    "3. **Payment Methods**:\n",
    "   - Debit cards are preferred for transactions averaging around `$249.21`, followed closely by cash and PayPal at `$248.17`.\n",
    "   - Credit cards are used for lower average payments of approximately `$247.80`.\n",
    "\n",
    "4. **Relationship between Total Amount and Discount Applied**:\n",
    "   - There is a low negative correlation between Total Amount and Discount Applied, indicating that as discounts increase, the total amount tends to decrease slightly.\n",
    "\n",
    "5. **Sales by State**:\n",
    "   - Armed Forces states consistently lead in sales across all categories, exceeding `$900,000`, while other states have lower sales, typically below `$400,000`.\n",
    "   - There is minimal fluctuation in payment method distribution across states, with slight preferences observed but overall minor variations.\n",
    "\n",
    "6. **Total Quantity Bought by Customers**:\n",
    "   - Total quantities range between `42,000` to` 43,000` in specific months (Jan, Mar, May, July, Aug, Dec), indicating peak buying periods.\n",
    "   - Quantities drop to `40,000` in February and below `39,300` in April, suggesting lower buying trends during these months.\n",
    "   - Quantity increases consistently towards the end of the year, reaching around `41,200` in September and rising further in the last four months."
   ]
  },
  {
   "cell_type": "markdown",
   "metadata": {},
   "source": [
    "# Recommendations"
   ]
  },
  {
   "cell_type": "markdown",
   "metadata": {},
   "source": []
  },
  {
   "cell_type": "markdown",
   "metadata": {},
   "source": [
    "\n",
    "1. **Category-Specific Strategies**:\n",
    "   - For Books: Capitalize on peak sales months (March, July, August, December) by offering targeted promotions or exclusive deals to drive higher sales during these periods.\n",
    "   - For Home Decor and Clothing: Align marketing efforts with peak months (January, July, August, December) to leverage higher consumer interest and boost sales through seasonal campaigns.\n",
    "   - For Electronics: Focus on promoting products during the peak month of October and consider offering special discounts or bundles to attract more customers.\n",
    "\n",
    "2. **Optimize Sales by Day**:\n",
    "   - Leverage the higher average sales on Thursdays by running flash sales, limited-time offers, or promotions specifically targeted for this day.\n",
    "   - Consider adjusting pricing or launching promotions to stimulate sales on Mondays, which consistently show lower average sales, to balance out the weekly sales distribution.\n",
    "\n",
    "3. **Payment Method Optimization**:\n",
    "   - Encourage the use of debit cards by offering incentives or discounts for transactions, as they are the preferred method for higher average payments.\n",
    "   - Streamline the checkout process for credit card users to improve convenience and potentially increase usage, especially for smaller purchases.\n",
    "\n",
    "4. **Discount and Total Amount Relationship**:\n",
    "   - Monitor the impact of discounts on total amounts closely to ensure that discounts are effectively driving sales without significantly reducing overall revenue.\n",
    "   - Consider implementing dynamic pricing strategies or targeted discount campaigns to maintain a balance between discount offers and total revenue generation.\n",
    "\n",
    "5. **State-Specific Marketing**:\n",
    "   - Allocate resources and marketing efforts strategically to capitalize on the higher sales in Armed Forces states, while also maintaining a consistent presence and engagement in other states to maximize overall sales.\n",
    "\n",
    "6. **Quantity Management**:\n",
    "   - Plan inventory levels and promotional activities based on seasonal buying trends to ensure optimal stock availability during peak buying months and avoid overstocking during slower periods.\n",
    "   - Monitor and analyze customer buying patterns to anticipate demand fluctuations and adjust procurement and marketing strategies accordingly.\n"
   ]
  }
 ],
 "metadata": {
  "colab": {
   "name": "Welcome to DataCamp Workspaces.ipynb",
   "provenance": []
  },
  "kaggle": {
   "accelerator": "none",
   "dataSources": [
    {
     "datasetId": 4916971,
     "sourceId": 8279739,
     "sourceType": "datasetVersion"
    }
   ],
   "dockerImageVersionId": 30698,
   "isGpuEnabled": false,
   "isInternetEnabled": false,
   "language": "python",
   "sourceType": "notebook"
  },
  "kernelspec": {
   "display_name": "Python 3 (ipykernel)",
   "language": "python",
   "name": "python3"
  },
  "language_info": {
   "codemirror_mode": {
    "name": "ipython",
    "version": 3
   },
   "file_extension": ".py",
   "mimetype": "text/x-python",
   "name": "python",
   "nbconvert_exporter": "python",
   "pygments_lexer": "ipython3",
   "version": "3.11.0"
  }
 },
 "nbformat": 4,
 "nbformat_minor": 4
}
